{
  "cells": [
    {
      "cell_type": "markdown",
      "metadata": {
        "id": "view-in-github",
        "colab_type": "text"
      },
      "source": [
        "<a href=\"https://colab.research.google.com/github/vnshtiwari/test_collab_nb/blob/main/RAG_insurance.ipynb\" target=\"_parent\"><img src=\"https://colab.research.google.com/assets/colab-badge.svg\" alt=\"Open In Colab\"/></a>"
      ]
    },
    {
      "cell_type": "code",
      "source": [
        "!pip install langchain faiss-cpu sentence-transformers huggingface_hub langchain_community\n",
        "!pip install google-generativeai\n",
        "\n",
        "from langchain.document_loaders import WebBaseLoader\n",
        "from langchain.text_splitter import RecursiveCharacterTextSplitter\n",
        "from langchain.vectorstores import FAISS\n",
        "from langchain.embeddings import HuggingFaceEmbeddings\n",
        "from langchain.chains import RetrievalQA\n",
        "from langchain_google_genai import ChatGoogleGenerativeAI\n",
        "from google.colab import userdata\n",
        "\n",
        "# Step 1: Define URLs\n",
        "DATA_URL = [\n",
        "    \"https://www.acko.com/life-insurance/\",\n",
        "    \"https://www.acko.com/health-insurance/for-parents/\",\n",
        "    \"https://www.acko.com/car-insurance/\",\n",
        "    \"https://www.acko.com/two-wheeler-insurance/\"\n",
        "]\n",
        "\n",
        "# Step 2: Load web content\n",
        "loader = WebBaseLoader(DATA_URL)\n",
        "documents = loader.load()\n",
        "\n",
        "# Step 3: Split into chunks\n",
        "splitter = RecursiveCharacterTextSplitter(chunk_size=1000, chunk_overlap=200)\n",
        "docs = splitter.split_documents(documents)\n",
        "\n",
        "# Step 4: Embeddings using Hugging Face (reusing the previous embedding model)\n",
        "embedding_model = HuggingFaceEmbeddings(model_name=\"sentence-transformers/all-MiniLM-L6-v2\")\n",
        "vectorstore = FAISS.from_documents(docs, embedding_model)\n",
        "\n",
        "# Step 5: Google Generative AI LLM\n",
        "# Make sure you have your GOOGLE_API_KEY set up in Colab secrets\n",
        "llm = ChatGoogleGenerativeAI(model=\"gemini-1.5-flash-latest\", google_api_key=\"xxxxxxxx\")\n",
        "\n",
        "\n",
        "# Step 6: RetrievalQA chain\n",
        "retriever = vectorstore.as_retriever()\n",
        "qa_chain = RetrievalQA.from_chain_type(llm=llm, retriever=retriever)\n",
        "\n",
        "# Step 7: Ask a question\n",
        "query = \"What are the benefits of life insurance from ACKO?\"\n",
        "response = qa_chain.invoke({\"query\": query})\n",
        "\n",
        "print(\"Query:\", query)\n",
        "print(\"Response:\", response['result'])"
      ],
      "metadata": {
        "id": "llR2ue4tKc9i"
      },
      "execution_count": null,
      "outputs": []
    }
  ],
  "metadata": {
    "colab": {
      "name": "Welcome To Colab",
      "toc_visible": true,
      "provenance": [],
      "include_colab_link": true
    },
    "kernelspec": {
      "display_name": "Python 3",
      "name": "python3"
    }
  },
  "nbformat": 4,
  "nbformat_minor": 0
}
